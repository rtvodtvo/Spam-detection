{
 "cells": [
  {
   "cell_type": "markdown",
   "metadata": {},
   "source": [
    "# SaSW, Vyhľadávanie názorového spamu (disinformácie,manipulácia), rekurentná neurónová sieť\n",
    "### Adam Jozefík, Matúš Harčárik"
   ]
  },
  {
   "cell_type": "markdown",
   "metadata": {},
   "source": [
    "## Dáta\n",
    "Dáta: https://www.kaggle.com/rtatman/deceptive-opinion-spam-corpus\n",
    "Obsahuje dataset skutočných aj klamlivých recenzií hotelov s údajmi o tom, či bola recenzia klamlivá, o aký hotel sa jednalo, či išlo o pozitívnu alebo negatívnu recenziu, zdroj recenzie a text recenzie.\n",
    "### Knižnice\n",
    "Numpy, Pandas, Matplotlib, Sklearn, Keras, Metrics"
   ]
  },
  {
   "cell_type": "code",
   "execution_count": 42,
   "metadata": {},
   "outputs": [],
   "source": [
    "# reading data, exploring and plotting\n",
    "import numpy as np\n",
    "import pandas as pd\n",
    "import seaborn as sns\n",
    "import matplotlib.pyplot as plt\n",
    "%matplotlib inline\n",
    "# train test split\n",
    "from sklearn.model_selection import train_test_split\n",
    "# text pre-processing\n",
    "import tensorflow as tf\n",
    "from tensorflow.keras.preprocessing.text import Tokenizer\n",
    "from tensorflow.keras.preprocessing.sequence import pad_sequences\n",
    "# Modeling \n",
    "from tensorflow.keras.models import Sequential\n",
    "from tensorflow.keras.layers import Embedding, GlobalAveragePooling1D, Dense, Dropout\n",
    "# confusion matrix\n",
    "from sklearn.metrics import confusion_matrix\n",
    "from sklearn.metrics import classification_report"
   ]
  },
  {
   "cell_type": "markdown",
   "metadata": {},
   "source": [
    "### Načítanie dát"
   ]
  },
  {
   "cell_type": "code",
   "execution_count": 43,
   "metadata": {},
   "outputs": [
    {
     "data": {
      "text/html": [
       "<div>\n",
       "<style scoped>\n",
       "    .dataframe tbody tr th:only-of-type {\n",
       "        vertical-align: middle;\n",
       "    }\n",
       "\n",
       "    .dataframe tbody tr th {\n",
       "        vertical-align: top;\n",
       "    }\n",
       "\n",
       "    .dataframe thead th {\n",
       "        text-align: right;\n",
       "    }\n",
       "</style>\n",
       "<table border=\"1\" class=\"dataframe\">\n",
       "  <thead>\n",
       "    <tr style=\"text-align: right;\">\n",
       "      <th></th>\n",
       "      <th>deceptive</th>\n",
       "      <th>hotel</th>\n",
       "      <th>polarity</th>\n",
       "      <th>source</th>\n",
       "      <th>text</th>\n",
       "    </tr>\n",
       "  </thead>\n",
       "  <tbody>\n",
       "    <tr>\n",
       "      <th>0</th>\n",
       "      <td>truthful</td>\n",
       "      <td>conrad</td>\n",
       "      <td>positive</td>\n",
       "      <td>TripAdvisor</td>\n",
       "      <td>We stayed for a one night getaway with family ...</td>\n",
       "    </tr>\n",
       "    <tr>\n",
       "      <th>1</th>\n",
       "      <td>truthful</td>\n",
       "      <td>hyatt</td>\n",
       "      <td>positive</td>\n",
       "      <td>TripAdvisor</td>\n",
       "      <td>Triple A rate with upgrade to view room was le...</td>\n",
       "    </tr>\n",
       "    <tr>\n",
       "      <th>2</th>\n",
       "      <td>truthful</td>\n",
       "      <td>hyatt</td>\n",
       "      <td>positive</td>\n",
       "      <td>TripAdvisor</td>\n",
       "      <td>This comes a little late as I'm finally catchi...</td>\n",
       "    </tr>\n",
       "    <tr>\n",
       "      <th>3</th>\n",
       "      <td>truthful</td>\n",
       "      <td>omni</td>\n",
       "      <td>positive</td>\n",
       "      <td>TripAdvisor</td>\n",
       "      <td>The Omni Chicago really delivers on all fronts...</td>\n",
       "    </tr>\n",
       "    <tr>\n",
       "      <th>4</th>\n",
       "      <td>truthful</td>\n",
       "      <td>hyatt</td>\n",
       "      <td>positive</td>\n",
       "      <td>TripAdvisor</td>\n",
       "      <td>I asked for a high floor away from the elevato...</td>\n",
       "    </tr>\n",
       "    <tr>\n",
       "      <th>...</th>\n",
       "      <td>...</td>\n",
       "      <td>...</td>\n",
       "      <td>...</td>\n",
       "      <td>...</td>\n",
       "      <td>...</td>\n",
       "    </tr>\n",
       "    <tr>\n",
       "      <th>1595</th>\n",
       "      <td>deceptive</td>\n",
       "      <td>intercontinental</td>\n",
       "      <td>negative</td>\n",
       "      <td>MTurk</td>\n",
       "      <td>Problems started when I booked the InterContin...</td>\n",
       "    </tr>\n",
       "    <tr>\n",
       "      <th>1596</th>\n",
       "      <td>deceptive</td>\n",
       "      <td>amalfi</td>\n",
       "      <td>negative</td>\n",
       "      <td>MTurk</td>\n",
       "      <td>The Amalfi Hotel has a beautiful website and i...</td>\n",
       "    </tr>\n",
       "    <tr>\n",
       "      <th>1597</th>\n",
       "      <td>deceptive</td>\n",
       "      <td>intercontinental</td>\n",
       "      <td>negative</td>\n",
       "      <td>MTurk</td>\n",
       "      <td>The Intercontinental Chicago Magnificent Mile ...</td>\n",
       "    </tr>\n",
       "    <tr>\n",
       "      <th>1598</th>\n",
       "      <td>deceptive</td>\n",
       "      <td>palmer</td>\n",
       "      <td>negative</td>\n",
       "      <td>MTurk</td>\n",
       "      <td>The Palmer House Hilton, while it looks good i...</td>\n",
       "    </tr>\n",
       "    <tr>\n",
       "      <th>1599</th>\n",
       "      <td>deceptive</td>\n",
       "      <td>amalfi</td>\n",
       "      <td>negative</td>\n",
       "      <td>MTurk</td>\n",
       "      <td>As a former Chicagoan, I'm appalled at the Ama...</td>\n",
       "    </tr>\n",
       "  </tbody>\n",
       "</table>\n",
       "<p>1600 rows × 5 columns</p>\n",
       "</div>"
      ],
      "text/plain": [
       "      deceptive             hotel  polarity       source  \\\n",
       "0      truthful            conrad  positive  TripAdvisor   \n",
       "1      truthful             hyatt  positive  TripAdvisor   \n",
       "2      truthful             hyatt  positive  TripAdvisor   \n",
       "3      truthful              omni  positive  TripAdvisor   \n",
       "4      truthful             hyatt  positive  TripAdvisor   \n",
       "...         ...               ...       ...          ...   \n",
       "1595  deceptive  intercontinental  negative        MTurk   \n",
       "1596  deceptive            amalfi  negative        MTurk   \n",
       "1597  deceptive  intercontinental  negative        MTurk   \n",
       "1598  deceptive            palmer  negative        MTurk   \n",
       "1599  deceptive            amalfi  negative        MTurk   \n",
       "\n",
       "                                                   text  \n",
       "0     We stayed for a one night getaway with family ...  \n",
       "1     Triple A rate with upgrade to view room was le...  \n",
       "2     This comes a little late as I'm finally catchi...  \n",
       "3     The Omni Chicago really delivers on all fronts...  \n",
       "4     I asked for a high floor away from the elevato...  \n",
       "...                                                 ...  \n",
       "1595  Problems started when I booked the InterContin...  \n",
       "1596  The Amalfi Hotel has a beautiful website and i...  \n",
       "1597  The Intercontinental Chicago Magnificent Mile ...  \n",
       "1598  The Palmer House Hilton, while it looks good i...  \n",
       "1599  As a former Chicagoan, I'm appalled at the Ama...  \n",
       "\n",
       "[1600 rows x 5 columns]"
      ]
     },
     "execution_count": 43,
     "metadata": {},
     "output_type": "execute_result"
    }
   ],
   "source": [
    "df=pd.read_csv('Downloads/deceptive-opinio.csv')\n",
    "df"
   ]
  },
  {
   "cell_type": "markdown",
   "metadata": {},
   "source": [
    "#### Vymazanie nerelevantných atribútov a vytvorenie cieľového atribútu\n",
    "Kedže nám ide o klasifikáciu na základe textu tak nepotrebujeme atribúty ako názov hotelu a stránka na recenzie. Cieľový atribút je kombinácia atribútov deceptive a polarity. Tieto 2 atribíty majú 4 kombinácie/triedy."
   ]
  },
  {
   "cell_type": "code",
   "execution_count": 44,
   "metadata": {},
   "outputs": [],
   "source": [
    "#vymazanie atribútov\n",
    "df = df.drop(['hotel','source' ],axis = 1)\n",
    "# Vytvorenie cieľového atribútu\n",
    "df[\"label\"] = df[\"deceptive\"] + df[\"polarity\"]\n",
    "df = df.drop(['deceptive','polarity' ],axis = 1)"
   ]
  },
  {
   "cell_type": "code",
   "execution_count": 45,
   "metadata": {},
   "outputs": [
    {
     "data": {
      "text/plain": [
       "text     0\n",
       "label    0\n",
       "dtype: int64"
      ]
     },
     "execution_count": 45,
     "metadata": {},
     "output_type": "execute_result"
    }
   ],
   "source": [
    "#Dáta nemajú chybajúce hodnoty\n",
    "df.isnull().sum()"
   ]
  },
  {
   "cell_type": "code",
   "execution_count": 46,
   "metadata": {},
   "outputs": [
    {
     "data": {
      "text/html": [
       "<div>\n",
       "<style scoped>\n",
       "    .dataframe tbody tr th:only-of-type {\n",
       "        vertical-align: middle;\n",
       "    }\n",
       "\n",
       "    .dataframe tbody tr th {\n",
       "        vertical-align: top;\n",
       "    }\n",
       "\n",
       "    .dataframe thead th {\n",
       "        text-align: right;\n",
       "    }\n",
       "</style>\n",
       "<table border=\"1\" class=\"dataframe\">\n",
       "  <thead>\n",
       "    <tr style=\"text-align: right;\">\n",
       "      <th></th>\n",
       "      <th>label</th>\n",
       "      <th>deceptivenegative</th>\n",
       "      <th>deceptivepositive</th>\n",
       "      <th>truthfulnegative</th>\n",
       "      <th>truthfulpositive</th>\n",
       "    </tr>\n",
       "  </thead>\n",
       "  <tbody>\n",
       "    <tr>\n",
       "      <th rowspan=\"4\" valign=\"top\">text</th>\n",
       "      <th>count</th>\n",
       "      <td>400</td>\n",
       "      <td>400</td>\n",
       "      <td>400</td>\n",
       "      <td>400</td>\n",
       "    </tr>\n",
       "    <tr>\n",
       "      <th>unique</th>\n",
       "      <td>400</td>\n",
       "      <td>400</td>\n",
       "      <td>396</td>\n",
       "      <td>400</td>\n",
       "    </tr>\n",
       "    <tr>\n",
       "      <th>top</th>\n",
       "      <td>My husband and I stayed at the Hotel Allegro i...</td>\n",
       "      <td>I frequently have business meetings in Downtow...</td>\n",
       "      <td>I'd been searching for a cool, non-chain hotel...</td>\n",
       "      <td>If you want to stay in a fabulous hotel in the...</td>\n",
       "    </tr>\n",
       "    <tr>\n",
       "      <th>freq</th>\n",
       "      <td>1</td>\n",
       "      <td>1</td>\n",
       "      <td>2</td>\n",
       "      <td>1</td>\n",
       "    </tr>\n",
       "  </tbody>\n",
       "</table>\n",
       "</div>"
      ],
      "text/plain": [
       "label                                        deceptivenegative  \\\n",
       "text count                                                 400   \n",
       "     unique                                                400   \n",
       "     top     My husband and I stayed at the Hotel Allegro i...   \n",
       "     freq                                                    1   \n",
       "\n",
       "label                                        deceptivepositive  \\\n",
       "text count                                                 400   \n",
       "     unique                                                400   \n",
       "     top     I frequently have business meetings in Downtow...   \n",
       "     freq                                                    1   \n",
       "\n",
       "label                                         truthfulnegative  \\\n",
       "text count                                                 400   \n",
       "     unique                                                396   \n",
       "     top     I'd been searching for a cool, non-chain hotel...   \n",
       "     freq                                                    2   \n",
       "\n",
       "label                                         truthfulpositive  \n",
       "text count                                                 400  \n",
       "     unique                                                400  \n",
       "     top     If you want to stay in a fabulous hotel in the...  \n",
       "     freq                                                    1  "
      ]
     },
     "execution_count": 46,
     "metadata": {},
     "output_type": "execute_result"
    }
   ],
   "source": [
    "df.groupby('label').describe().T"
   ]
  },
  {
   "cell_type": "markdown",
   "metadata": {},
   "source": [
    "#### Transformácia cieľové atribútu a vytvorenie test. a trén. množniny"
   ]
  },
  {
   "cell_type": "code",
   "execution_count": 47,
   "metadata": {},
   "outputs": [
    {
     "data": {
      "text/html": [
       "<div>\n",
       "<style scoped>\n",
       "    .dataframe tbody tr th:only-of-type {\n",
       "        vertical-align: middle;\n",
       "    }\n",
       "\n",
       "    .dataframe tbody tr th {\n",
       "        vertical-align: top;\n",
       "    }\n",
       "\n",
       "    .dataframe thead th {\n",
       "        text-align: right;\n",
       "    }\n",
       "</style>\n",
       "<table border=\"1\" class=\"dataframe\">\n",
       "  <thead>\n",
       "    <tr style=\"text-align: right;\">\n",
       "      <th></th>\n",
       "      <th>text</th>\n",
       "      <th>label1</th>\n",
       "    </tr>\n",
       "  </thead>\n",
       "  <tbody>\n",
       "    <tr>\n",
       "      <th>0</th>\n",
       "      <td>We stayed for a one night getaway with family ...</td>\n",
       "      <td>3</td>\n",
       "    </tr>\n",
       "    <tr>\n",
       "      <th>1</th>\n",
       "      <td>Triple A rate with upgrade to view room was le...</td>\n",
       "      <td>3</td>\n",
       "    </tr>\n",
       "    <tr>\n",
       "      <th>2</th>\n",
       "      <td>This comes a little late as I'm finally catchi...</td>\n",
       "      <td>3</td>\n",
       "    </tr>\n",
       "    <tr>\n",
       "      <th>3</th>\n",
       "      <td>The Omni Chicago really delivers on all fronts...</td>\n",
       "      <td>3</td>\n",
       "    </tr>\n",
       "    <tr>\n",
       "      <th>4</th>\n",
       "      <td>I asked for a high floor away from the elevato...</td>\n",
       "      <td>3</td>\n",
       "    </tr>\n",
       "    <tr>\n",
       "      <th>...</th>\n",
       "      <td>...</td>\n",
       "      <td>...</td>\n",
       "    </tr>\n",
       "    <tr>\n",
       "      <th>1595</th>\n",
       "      <td>Problems started when I booked the InterContin...</td>\n",
       "      <td>0</td>\n",
       "    </tr>\n",
       "    <tr>\n",
       "      <th>1596</th>\n",
       "      <td>The Amalfi Hotel has a beautiful website and i...</td>\n",
       "      <td>0</td>\n",
       "    </tr>\n",
       "    <tr>\n",
       "      <th>1597</th>\n",
       "      <td>The Intercontinental Chicago Magnificent Mile ...</td>\n",
       "      <td>0</td>\n",
       "    </tr>\n",
       "    <tr>\n",
       "      <th>1598</th>\n",
       "      <td>The Palmer House Hilton, while it looks good i...</td>\n",
       "      <td>0</td>\n",
       "    </tr>\n",
       "    <tr>\n",
       "      <th>1599</th>\n",
       "      <td>As a former Chicagoan, I'm appalled at the Ama...</td>\n",
       "      <td>0</td>\n",
       "    </tr>\n",
       "  </tbody>\n",
       "</table>\n",
       "<p>1600 rows × 2 columns</p>\n",
       "</div>"
      ],
      "text/plain": [
       "                                                   text  label1\n",
       "0     We stayed for a one night getaway with family ...       3\n",
       "1     Triple A rate with upgrade to view room was le...       3\n",
       "2     This comes a little late as I'm finally catchi...       3\n",
       "3     The Omni Chicago really delivers on all fronts...       3\n",
       "4     I asked for a high floor away from the elevato...       3\n",
       "...                                                 ...     ...\n",
       "1595  Problems started when I booked the InterContin...       0\n",
       "1596  The Amalfi Hotel has a beautiful website and i...       0\n",
       "1597  The Intercontinental Chicago Magnificent Mile ...       0\n",
       "1598  The Palmer House Hilton, while it looks good i...       0\n",
       "1599  As a former Chicagoan, I'm appalled at the Ama...       0\n",
       "\n",
       "[1600 rows x 2 columns]"
      ]
     },
     "execution_count": 47,
     "metadata": {},
     "output_type": "execute_result"
    }
   ],
   "source": [
    "# 4 triedy cieľového atribútu sú transformované na čísla\n",
    "df['label1']= df['label'].map({'deceptivenegative': 0, 'deceptivepositive': 1, 'truthfulnegative': 2, 'truthfulpositive': 3})\n",
    "df = df.drop(['label' ],axis = 1)\n",
    "df"
   ]
  },
  {
   "cell_type": "code",
   "execution_count": 48,
   "metadata": {},
   "outputs": [],
   "source": [
    "# Rozdelenia dáta na trénovaciu a testovaciu množinu 80%/20%\n",
    "train_text, test_text, train_labels, test_labels = train_test_split(df['text'], df['label1'], test_size=0.2, random_state=123)"
   ]
  },
  {
   "cell_type": "markdown",
   "metadata": {},
   "source": [
    "#### Predspracovanie dáta pre potreby neurónovej siete\n",
    "#### Tokenizer\n",
    "Slúži na konvertovanie textu do numerickej reprezentácie. Ofiltruje interpunkčné znaky, zmení všetky znaky na málé a prevedie všetky slová na celočíselný index maximalnej zadanej dĺžky.\n",
    "**max_len** - maximálna dĺžka vektora <br>\n",
    "**padding_type** - Použitím PRE , doplnia sa nuly pred každou sekvenciou a použitím post doplnia sa nuly po každej sekvencii.<br>\n",
    "**trunc_type** - Pre sekvencie ktoré sú dlhé tak sa hodnoty odstránia zozadu alebo z predu<br>\n",
    "**vocab_size** - Označuje, koľko jedinečných slov sa má načítaťpre trénovanie a testovanie. \n",
    "**max_len** - Maximálna dĺžka číselného vektora. "
   ]
  },
  {
   "cell_type": "code",
   "execution_count": 49,
   "metadata": {},
   "outputs": [],
   "source": [
    "# Definovanie parametrov\n",
    "max_len = 200\n",
    "trunc_type = \"post\" \n",
    "padding_type = \"post\" \n",
    "oov_tok = \"<OOV>\" \n",
    "vocab_size = 1500"
   ]
  },
  {
   "cell_type": "code",
   "execution_count": 50,
   "metadata": {},
   "outputs": [],
   "source": [
    "# Aplikovanie tokenizácie na trénovaciu množinu\n",
    "tokenizer = Tokenizer(num_words = vocab_size, char_level=False, oov_token = oov_tok)\n",
    "tokenizer.fit_on_texts(train_text)"
   ]
  },
  {
   "cell_type": "code",
   "execution_count": 51,
   "metadata": {},
   "outputs": [
    {
     "name": "stdout",
     "output_type": "stream",
     "text": [
      "There are 9201 unique tokens in training data. \n"
     ]
    }
   ],
   "source": [
    "# Vypisánie unikátnych tokenov v dátach\n",
    "training_words = len(word_index)\n",
    "print('There are %s unique tokens in training data. ' % training_words)"
   ]
  },
  {
   "cell_type": "code",
   "execution_count": 52,
   "metadata": {},
   "outputs": [],
   "source": [
    "# Transformácia textu na číselné vektory, odstraňovanie znakov v príliš veľkých vektoroch a dopnenie malých vektorou nulami v testovacej a trénovacej množine\n",
    "training_sequences = tokenizer.texts_to_sequences(train_text)\n",
    "training_padded = pad_sequences (training_sequences, maxlen = max_len, padding = padding_type, truncating = trunc_type )\n",
    "testing_sequences = tokenizer.texts_to_sequences(test_text)\n",
    "testing_padded = pad_sequences(testing_sequences, maxlen = max_len,\n",
    "padding = padding_type, truncating = trunc_type)"
   ]
  },
  {
   "cell_type": "code",
   "execution_count": 53,
   "metadata": {},
   "outputs": [
    {
     "name": "stdout",
     "output_type": "stream",
     "text": [
      "Shape of training tensor:  (1280, 200)\n",
      "Shape of testing tensor:  (320, 200)\n"
     ]
    }
   ],
   "source": [
    "# Vypísanie tvaru trénovacích dát\n",
    "print('Shape of training tensor: ', training_padded.shape)\n",
    "print('Shape of testing tensor: ', testing_padded.shape)"
   ]
  },
  {
   "cell_type": "markdown",
   "metadata": {},
   "source": [
    "### Vytvorenie architektúry neurónovej siete\n",
    "Prvá vrstva je embedding vrstva na ktorá ma tvar vstupných dát  <br>\n",
    "GlobalAveragePooling vrstva pomáha znižovať počet parametrov v modeli <br>\n",
    "Dense vrstva s aktivačnou funkciou „relu“, po ktorej nasleduje Dropout vrstva, aby sa predišlo preučeniu, a posledná výstupná vrstva s funkciou aktivácie softmax pretože máme viacero tried <br>"
   ]
  },
  {
   "cell_type": "code",
   "execution_count": 54,
   "metadata": {},
   "outputs": [],
   "source": [
    "# Veĺkosť masky neurónovej siete\n",
    "embeding_dim = 16 # velkost vektora\n",
    "drop_value = 0.2 # dropout\n",
    "n_dense = 24"
   ]
  },
  {
   "cell_type": "code",
   "execution_count": 55,
   "metadata": {},
   "outputs": [],
   "source": [
    "#Architekrtúra\n",
    "model = Sequential()\n",
    "model.add(Embedding(vocab_size, embeding_dim, input_length=max_len))\n",
    "model.add(GlobalAveragePooling1D())\n",
    "\n",
    "model.add(Dense(24, activation='relu'))\n",
    "model.add(Dropout(drop_value))\n",
    "\n",
    "model.add(Dense(24, activation='relu'))\n",
    "model.add(Dropout(drop_value))\n",
    "\n",
    "\n",
    "model.add(Dense(4, activation='softmax'))"
   ]
  },
  {
   "cell_type": "code",
   "execution_count": 56,
   "metadata": {},
   "outputs": [
    {
     "name": "stdout",
     "output_type": "stream",
     "text": [
      "Model: \"sequential_1\"\n",
      "_________________________________________________________________\n",
      "Layer (type)                 Output Shape              Param #   \n",
      "=================================================================\n",
      "embedding_1 (Embedding)      (None, 200, 16)           24000     \n",
      "_________________________________________________________________\n",
      "global_average_pooling1d_1 ( (None, 16)                0         \n",
      "_________________________________________________________________\n",
      "dense_3 (Dense)              (None, 24)                408       \n",
      "_________________________________________________________________\n",
      "dropout_2 (Dropout)          (None, 24)                0         \n",
      "_________________________________________________________________\n",
      "dense_4 (Dense)              (None, 24)                600       \n",
      "_________________________________________________________________\n",
      "dropout_3 (Dropout)          (None, 24)                0         \n",
      "_________________________________________________________________\n",
      "dense_5 (Dense)              (None, 4)                 100       \n",
      "=================================================================\n",
      "Total params: 25,108\n",
      "Trainable params: 25,108\n",
      "Non-trainable params: 0\n",
      "_________________________________________________________________\n"
     ]
    }
   ],
   "source": [
    "# Sumarizácia modelu\n",
    "model.summary() "
   ]
  },
  {
   "cell_type": "code",
   "execution_count": 57,
   "metadata": {},
   "outputs": [],
   "source": [
    "model.compile(loss='sparse_categorical_crossentropy',optimizer='RMSprop' ,metrics=['accuracy'])"
   ]
  },
  {
   "cell_type": "code",
   "execution_count": 58,
   "metadata": {},
   "outputs": [
    {
     "name": "stdout",
     "output_type": "stream",
     "text": [
      "Epoch 1/30\n",
      "40/40 [==============================] - 1s 5ms/step - loss: 1.3802 - accuracy: 0.2879 - val_loss: 1.3713 - val_accuracy: 0.3250\n",
      "Epoch 2/30\n",
      "40/40 [==============================] - 0s 2ms/step - loss: 1.3595 - accuracy: 0.3558 - val_loss: 1.3478 - val_accuracy: 0.3750\n",
      "Epoch 3/30\n",
      "40/40 [==============================] - 0s 2ms/step - loss: 1.3306 - accuracy: 0.3642 - val_loss: 1.3165 - val_accuracy: 0.3969\n",
      "Epoch 4/30\n",
      "40/40 [==============================] - 0s 2ms/step - loss: 1.2988 - accuracy: 0.3965 - val_loss: 1.2749 - val_accuracy: 0.4187\n",
      "Epoch 5/30\n",
      "40/40 [==============================] - 0s 2ms/step - loss: 1.2457 - accuracy: 0.4439 - val_loss: 1.2230 - val_accuracy: 0.4250\n",
      "Epoch 6/30\n",
      "40/40 [==============================] - 0s 2ms/step - loss: 1.1825 - accuracy: 0.4705 - val_loss: 1.1553 - val_accuracy: 0.5500\n",
      "Epoch 7/30\n",
      "40/40 [==============================] - 0s 2ms/step - loss: 1.1203 - accuracy: 0.5274 - val_loss: 1.0810 - val_accuracy: 0.6125\n",
      "Epoch 8/30\n",
      "40/40 [==============================] - 0s 2ms/step - loss: 1.0370 - accuracy: 0.5885 - val_loss: 0.9956 - val_accuracy: 0.6438\n",
      "Epoch 9/30\n",
      "40/40 [==============================] - 0s 2ms/step - loss: 0.9462 - accuracy: 0.6169 - val_loss: 0.9241 - val_accuracy: 0.7188\n",
      "Epoch 10/30\n",
      "40/40 [==============================] - 0s 2ms/step - loss: 0.8842 - accuracy: 0.6664 - val_loss: 0.8563 - val_accuracy: 0.7437\n",
      "Epoch 11/30\n",
      "40/40 [==============================] - 0s 2ms/step - loss: 0.8292 - accuracy: 0.7104 - val_loss: 0.8076 - val_accuracy: 0.7500\n",
      "Epoch 12/30\n",
      "40/40 [==============================] - 0s 2ms/step - loss: 0.7499 - accuracy: 0.7126 - val_loss: 0.7619 - val_accuracy: 0.7625\n",
      "Epoch 13/30\n",
      "40/40 [==============================] - 0s 2ms/step - loss: 0.7207 - accuracy: 0.7288 - val_loss: 0.7178 - val_accuracy: 0.7719\n",
      "Epoch 14/30\n",
      "40/40 [==============================] - 0s 2ms/step - loss: 0.6685 - accuracy: 0.7455 - val_loss: 0.6811 - val_accuracy: 0.7781\n",
      "Epoch 15/30\n",
      "40/40 [==============================] - 0s 2ms/step - loss: 0.6070 - accuracy: 0.7885 - val_loss: 0.6408 - val_accuracy: 0.7844\n",
      "Epoch 16/30\n",
      "40/40 [==============================] - 0s 2ms/step - loss: 0.5529 - accuracy: 0.8098 - val_loss: 0.5976 - val_accuracy: 0.8094\n",
      "Epoch 17/30\n",
      "40/40 [==============================] - 0s 2ms/step - loss: 0.5067 - accuracy: 0.8335 - val_loss: 0.5893 - val_accuracy: 0.7937\n",
      "Epoch 18/30\n",
      "40/40 [==============================] - 0s 2ms/step - loss: 0.4893 - accuracy: 0.8269 - val_loss: 0.5655 - val_accuracy: 0.7937\n",
      "Epoch 19/30\n",
      "40/40 [==============================] - 0s 2ms/step - loss: 0.4666 - accuracy: 0.8151 - val_loss: 0.5359 - val_accuracy: 0.8094\n",
      "Epoch 20/30\n",
      "40/40 [==============================] - 0s 2ms/step - loss: 0.4214 - accuracy: 0.8560 - val_loss: 0.5230 - val_accuracy: 0.8094\n",
      "Epoch 21/30\n",
      "40/40 [==============================] - 0s 2ms/step - loss: 0.3592 - accuracy: 0.8889 - val_loss: 0.5202 - val_accuracy: 0.8156\n",
      "Epoch 22/30\n",
      "40/40 [==============================] - 0s 2ms/step - loss: 0.3547 - accuracy: 0.8834 - val_loss: 0.4938 - val_accuracy: 0.8188\n",
      "Epoch 23/30\n",
      "40/40 [==============================] - 0s 2ms/step - loss: 0.3385 - accuracy: 0.8907 - val_loss: 0.4982 - val_accuracy: 0.8156\n",
      "Epoch 24/30\n",
      "40/40 [==============================] - 0s 2ms/step - loss: 0.2944 - accuracy: 0.8924 - val_loss: 0.4963 - val_accuracy: 0.8188\n",
      "Epoch 25/30\n",
      "40/40 [==============================] - 0s 2ms/step - loss: 0.2980 - accuracy: 0.8901 - val_loss: 0.5138 - val_accuracy: 0.8219\n",
      "Epoch 26/30\n",
      "40/40 [==============================] - 0s 2ms/step - loss: 0.2720 - accuracy: 0.9049 - val_loss: 0.4997 - val_accuracy: 0.8188\n",
      "Epoch 27/30\n",
      "40/40 [==============================] - 0s 2ms/step - loss: 0.2420 - accuracy: 0.9234 - val_loss: 0.4945 - val_accuracy: 0.8219\n",
      "Epoch 28/30\n",
      "40/40 [==============================] - 0s 2ms/step - loss: 0.2108 - accuracy: 0.9404 - val_loss: 0.5257 - val_accuracy: 0.8125\n",
      "Epoch 29/30\n",
      "40/40 [==============================] - 0s 2ms/step - loss: 0.2031 - accuracy: 0.9330 - val_loss: 0.5188 - val_accuracy: 0.8250\n",
      "Epoch 30/30\n",
      "40/40 [==============================] - 0s 2ms/step - loss: 0.1849 - accuracy: 0.9459 - val_loss: 0.5178 - val_accuracy: 0.8219\n"
     ]
    }
   ],
   "source": [
    "# Nasadenie modelu na trénovacie dáta\n",
    "num_epochs = 30\n",
    "history = model.fit(training_padded, train_labels, epochs=num_epochs, validation_data=(testing_padded, test_labels))"
   ]
  },
  {
   "cell_type": "markdown",
   "metadata": {},
   "source": [
    "#### Vypočítanie presnosti modelu a zobrazenie priebehu prenosti a straty na trénovaích dátach"
   ]
  },
  {
   "cell_type": "code",
   "execution_count": 59,
   "metadata": {},
   "outputs": [
    {
     "name": "stdout",
     "output_type": "stream",
     "text": [
      "10/10 [==============================] - 0s 776us/step - loss: 0.5178 - accuracy: 0.8219\n"
     ]
    },
    {
     "data": {
      "text/plain": [
       "[0.5178004503250122, 0.8218749761581421]"
      ]
     },
     "execution_count": 59,
     "metadata": {},
     "output_type": "execute_result"
    }
   ],
   "source": [
    "# Prenosť modelu na dátach\n",
    "model.evaluate(testing_padded, test_labels)"
   ]
  },
  {
   "cell_type": "code",
   "execution_count": 60,
   "metadata": {},
   "outputs": [
    {
     "data": {
      "text/plain": [
       "<matplotlib.legend.Legend at 0x1770303a850>"
      ]
     },
     "execution_count": 60,
     "metadata": {},
     "output_type": "execute_result"
    },
    {
     "data": {
      "image/png": "[encoded data removed]",
      "text/plain": [
       "<Figure size 432x288 with 1 Axes>"
      ]
     },
     "metadata": {
      "needs_background": "light"
     },
     "output_type": "display_data"
    }
   ],
   "source": [
    "# Graf pre zobrazenie presností na trévacích dátach v priebehu epóch\n",
    "metrics = pd.DataFrame(history.history)\n",
    "metrics['accuracy'].plot()\n",
    "plt.title('Training  accuracy')\n",
    "plt.xlabel ('Number of epochs')\n",
    "plt.ylabel('accuracy')\n",
    "plt.legend(['accuracy'])"
   ]
  },
  {
   "cell_type": "code",
   "execution_count": 61,
   "metadata": {},
   "outputs": [
    {
     "data": {
      "text/plain": [
       "<matplotlib.legend.Legend at 0x1770dac6910>"
      ]
     },
     "execution_count": 61,
     "metadata": {},
     "output_type": "execute_result"
    },
    {
     "data": {
      "image/png": "[encoded data removed]",
      "text/plain": [
       "<Figure size 432x288 with 1 Axes>"
      ]
     },
     "metadata": {
      "needs_background": "light"
     },
     "output_type": "display_data"
    }
   ],
   "source": [
    "# Graf pre zobrazenie loss na trévacích dátach v priebehu epóch\n",
    "metrics = pd.DataFrame(history.history)\n",
    "metrics['loss'].plot()\n",
    "plt.title('Training  loss')\n",
    "plt.xlabel ('Number of epochs')\n",
    "plt.ylabel('loss')\n",
    "plt.legend(['loss'])"
   ]
  },
  {
   "cell_type": "markdown",
   "metadata": {},
   "source": [
    "#### Porovnanie klasifíkacie na jednotlivých triedach pomocou kontingenčnej matice a presností pre jednotlivé triedy \n",
    "**deceptivenegative** - 0<br>\n",
    "**deceptivepositive** - 1<br>\n",
    "**truthfulnegativ** - 2<br>\n",
    "**truthfulpositive** - 3"
   ]
  },
  {
   "cell_type": "code",
   "execution_count": 62,
   "metadata": {},
   "outputs": [],
   "source": [
    "predictions = model.predict(testing_padded[:10000])"
   ]
  },
  {
   "cell_type": "markdown",
   "metadata": {},
   "source": [
    "#### Kontingenčná tabuľka"
   ]
  },
  {
   "cell_type": "code",
   "execution_count": 63,
   "metadata": {},
   "outputs": [
    {
     "name": "stdout",
     "output_type": "stream",
     "text": [
      "Confusion matrix : \n",
      " [[59  1 19  1]\n",
      " [ 1 73  0  7]\n",
      " [ 9  0 70  8]\n",
      " [ 1  9  1 61]]\n"
     ]
    }
   ],
   "source": [
    "array_pred = []\n",
    "for i in range(320):\n",
    "    array_pred.append(np.argmax(predictions[i]))\n",
    "matrix =confusion_matrix(test_labels, array_pred ,labels=[0,1,2,3])\n",
    "print('Confusion matrix : \\n',matrix)"
   ]
  },
  {
   "cell_type": "markdown",
   "metadata": {},
   "source": [
    "#### Porovnanie jendotlivých tried"
   ]
  },
  {
   "cell_type": "code",
   "execution_count": 64,
   "metadata": {},
   "outputs": [
    {
     "name": "stdout",
     "output_type": "stream",
     "text": [
      "Classification report : \n",
      "               precision    recall  f1-score   support\n",
      "\n",
      "           0       0.84      0.74      0.79        80\n",
      "           1       0.88      0.90      0.89        81\n",
      "           2       0.78      0.80      0.79        87\n",
      "           3       0.79      0.85      0.82        72\n",
      "\n",
      "    accuracy                           0.82       320\n",
      "   macro avg       0.82      0.82      0.82       320\n",
      "weighted avg       0.82      0.82      0.82       320\n",
      "\n"
     ]
    }
   ],
   "source": [
    "matrix = classification_report(test_labels, array_pred ,labels=[0 ,1,2,3])\n",
    "print('Classification report : \\n',matrix)"
   ]
  },
  {
   "cell_type": "markdown",
   "metadata": {},
   "source": [
    "### Optimalizácia neurónovej siete\n",
    "Obsahuje zmeny vykonané pre zvýšenie presnoti neurónovej sieti<br>\n",
    "Najlepšie výsledky mali vrstvy s počtom neurónou okolo 24.<br>\n",
    "Najvyššia presnoť pri klasifikácií bola pri triede deceptivenegative\n",
    "\n",
    "| Iterácia | Počet vnútorných vrstiev|epochs |Accuracy |Optimalizátor|poznámka|\n",
    "| ---  | --- | ---| ---| ---|-- |\n",
    "| 1 |1 |5 |0.5625|adam |Prvá iterácia |\n",
    "| 2 |1 |20 |0.7531|adam |Pridanie epoch na 20 |\n",
    "| 3 |1 |30 |0.7563|adam |Zvýšenie epoch na 30 |\n",
    "| 4 |2 |30 |0.7344|adam |Pridanie vrtvy do neurónovej sieti |\n",
    "| 5 |1 |30 |0.7469|RMSprop |Zmena optimalizačnej metódy |\n",
    "| 6 |2 |30 |0.7594|RMSprop|Pridanie vrtvy do neurónovej sieti s RMSprop |\n",
    "| 7 |3 |30 |0.5188|RMSprop |-- |\n",
    "| 8 |2 |30 |0.2937|Adagrad |Zmena optimalizačnej metódy |\n",
    "| 9 |2 |30 |0.7688|RMSprop|Zvýšil som veľkosť unikátnych slov v slovníku a veľkosť vektorá  |\n",
    "| 10 |2 |30 |0.8219|RMSprop|Zvýšil som veľkosť unikátnych slov v slovníku a veľkosť vektorá  na maximálnu|\n",
    "\n",
    "\n",
    "### Najlepšie nastavenie parametrov pri maximálnej dľžke vektora a slovníka : <br>\n",
    "\n",
    "| Iterácia | Počet vnútorných vrstiev|epochs |Accuracy |Optimalizátor|\n",
    "| ---  | --- | ---| ---| ---|\n",
    "| 10 |2 |30 |0.8219|RMSprop|\n",
    "\n"
   ]
  }
 ],
 "metadata": {
  "kernelspec": {
   "display_name": "Python 3 (ipykernel)",
   "language": "python",
   "name": "python3"
  },
  "language_info": {
   "codemirror_mode": {
    "name": "ipython",
    "version": 3
   },
   "file_extension": ".py",
   "mimetype": "text/x-python",
   "name": "python",
   "nbconvert_exporter": "python",
   "pygments_lexer": "ipython3",
   "version": "3.10.13"
  }
 },
 "nbformat": 4,
 "nbformat_minor": 4
}
